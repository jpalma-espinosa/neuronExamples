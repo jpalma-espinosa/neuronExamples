{
 "cells": [
  {
   "cell_type": "code",
   "execution_count": 23,
   "metadata": {
    "collapsed": true
   },
   "outputs": [],
   "source": [
    "from neuron import h,gui"
   ]
  },
  {
   "cell_type": "code",
   "execution_count": 24,
   "metadata": {
    "collapsed": false
   },
   "outputs": [
    {
     "data": {
      "text/plain": [
       "<nrn.Section at 0x7fcb041a0968>"
      ]
     },
     "execution_count": 24,
     "metadata": {},
     "output_type": "execute_result"
    }
   ],
   "source": [
    "soma = h.Section(name='soma')\n",
    "dend = h.Section(name='dend')\n",
    "dend.connect(soma(1))"
   ]
  },
  {
   "cell_type": "code",
   "execution_count": 25,
   "metadata": {
    "collapsed": false
   },
   "outputs": [
    {
     "name": "stdout",
     "output_type": "stream",
     "text": [
      "Surface area of soma = 500.002963773\n"
     ]
    }
   ],
   "source": [
    "# Surface area of cylinder is 2*pi*r*h (sealed ends are implicit).\n",
    "# Here we make a square cylinder in that the diameter\n",
    "# is equal to the height, so diam = h. ==> Area = 4*pi*r^2\n",
    "# We want a soma of 500 microns squared:\n",
    "# r^2 = 500/(4*pi) ==> r = 6.2078, diam = 12.6157\n",
    "soma.L = soma.diam = 12.6157 # Makes a soma of 500 microns squared.\n",
    "dend.L = 200 # microns\n",
    "dend.diam = 1 # microns\n",
    "print \"Surface area of soma =\", h.area(0.5, sec=soma)"
   ]
  },
  {
   "cell_type": "markdown",
   "metadata": {},
   "source": [
    "### Biophysics"
   ]
  },
  {
   "cell_type": "code",
   "execution_count": 26,
   "metadata": {
    "collapsed": true
   },
   "outputs": [],
   "source": [
    "for sec in h.allsec():\n",
    "    sec.Ra = 100    # Axial resistance in Ohm * cm\n",
    "    sec.cm = 1      # Membrane capacitance in micro Farads / cm^2\n",
    "\n",
    "# Insert active Hodgkin-Huxley current in the soma\n",
    "soma.insert('hh')\n",
    "soma.gnabar_hh = 0.12  # Sodium conductance in S/cm2\n",
    "soma.gkbar_hh = 0.036  # Potassium conductance in S/cm2\n",
    "soma.gl_hh = 0.0003    # Leak conductance in S/cm2\n",
    "soma.el_hh = -54.3     # Reversal potential in mV\n",
    "\n",
    "# Insert passive current in the dendrite\n",
    "dend.insert('pas')\n",
    "dend.g_pas = 0.001  # Passive conductance in S/cm2\n",
    "dend.e_pas = -65    # Leak reversal potential mV"
   ]
  },
  {
   "cell_type": "markdown",
   "metadata": {
    "collapsed": true
   },
   "source": [
    "### Stimulation"
   ]
  },
  {
   "cell_type": "code",
   "execution_count": 27,
   "metadata": {
    "collapsed": true
   },
   "outputs": [],
   "source": [
    "stim = h.IClamp(dend(1))\n",
    "stim.delay = 5\n",
    "stim.dur = 1\n",
    "stim.amp = 0.1"
   ]
  },
  {
   "cell_type": "code",
   "execution_count": 31,
   "metadata": {
    "collapsed": false
   },
   "outputs": [
    {
     "data": {
      "image/png": "[encoded data removed]",
      "text/plain": [
       "<matplotlib.figure.Figure at 0x7fcacd105d10>"
      ]
     },
     "metadata": {},
     "output_type": "display_data"
    }
   ],
   "source": [
    "v_vec = h.Vector()        # Membrane potential vector\n",
    "t_vec = h.Vector()        # Time stamp vector\n",
    "v_vec.record(soma(0.5)._ref_v)\n",
    "t_vec.record(h._ref_t)\n",
    "simdur = 25.0\n",
    "\n",
    "h.tstop = simdur\n",
    "h.run()\n",
    "\n",
    "from matplotlib import pyplot\n",
    "%matplotlib inline\n",
    "pyplot.figure(figsize=(8,4)) # Default figsize is (8,6)\n",
    "pyplot.plot(t_vec, v_vec)\n",
    "pyplot.xlabel('time (ms)')\n",
    "pyplot.ylabel('mV')\n",
    "pyplot.show()"
   ]
  },
  {
   "cell_type": "code",
   "execution_count": 32,
   "metadata": {
    "collapsed": false
   },
   "outputs": [
    {
     "data": {
      "image/png": "[encoded data removed]",
      "text/plain": [
       "<matplotlib.figure.Figure at 0x7fcb040add10>"
      ]
     },
     "metadata": {},
     "output_type": "display_data"
    }
   ],
   "source": [
    "import numpy as np\n",
    "pyplot.figure(figsize=(8,4))\n",
    "step = 0.075\n",
    "num_steps = 4\n",
    "for i in numpy.linspace(step, step*num_steps, num_steps):\n",
    "    stim.amp = i\n",
    "    h.tstop = simdur\n",
    "    h.run()\n",
    "    pyplot.plot(t_vec, v_vec, color='black')\n",
    "\n",
    "pyplot.xlabel('time (ms)')\n",
    "pyplot.ylabel('mV')\n",
    "pyplot.show()"
   ]
  },
  {
   "cell_type": "code",
   "execution_count": null,
   "metadata": {
    "collapsed": true
   },
   "outputs": [],
   "source": []
  }
 ],
 "metadata": {
  "kernelspec": {
   "display_name": "Python 2",
   "language": "python",
   "name": "python2"
  },
  "language_info": {
   "codemirror_mode": {
    "name": "ipython",
    "version": 2
   },
   "file_extension": ".py",
   "mimetype": "text/x-python",
   "name": "python",
   "nbconvert_exporter": "python",
   "pygments_lexer": "ipython2",
   "version": "2.7.10"
  }
 },
 "nbformat": 4,
 "nbformat_minor": 0
}
